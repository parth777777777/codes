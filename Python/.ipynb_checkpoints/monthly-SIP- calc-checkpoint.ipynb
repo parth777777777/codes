{
 "cells": [
  {
   "cell_type": "code",
   "execution_count": 1,
   "id": "28f66919",
   "metadata": {},
   "outputs": [],
   "source": [
    "import pandas as pd \n",
    "from matplotlib import pyplot as plt"
   ]
  },
  {
   "cell_type": "code",
   "execution_count": 14,
   "id": "001eb6c8",
   "metadata": {
    "scrolled": true
   },
   "outputs": [
    {
     "name": "stdout",
     "output_type": "stream",
     "text": [
      "YEAR  1  : Amount invested =  768296   .  Total =  852809   .  Profit made =  84513\n",
      "YEAR  2  : Amount invested =  888296   .  Total =  1079818   .  Profit made =  191522\n",
      "YEAR  3  : Amount invested =  1008296   .  Total =  1331797   .  Profit made =  323501\n",
      "YEAR  4  : Amount invested =  1128296   .  Total =  1611495   .  Profit made =  483199\n",
      "YEAR  5  : Amount invested =  1248296   .  Total =  1921960   .  Profit made =  673664\n",
      "YEAR  6  : Amount invested =  1368296   .  Total =  2266575   .  Profit made =  898279\n",
      "YEAR  7  : Amount invested =  1488296   .  Total =  2649098   .  Profit made =  1160802\n",
      "YEAR  8  : Amount invested =  1608296   .  Total =  3073699   .  Profit made =  1465403\n",
      "YEAR  9  : Amount invested =  1728296   .  Total =  3545006   .  Profit made =  1816710\n",
      "YEAR  10  : Amount invested =  1848296   .  Total =  4068157   .  Profit made =  2219861\n",
      "YEAR  11  : Amount invested =  1968296   .  Total =  4648854   .  Profit made =  2680558\n",
      "YEAR  12  : Amount invested =  2088296   .  Total =  5293428   .  Profit made =  3205132\n",
      "YEAR  13  : Amount invested =  2208296   .  Total =  6008905   .  Profit made =  3800609\n",
      "YEAR  14  : Amount invested =  2328296   .  Total =  6803085   .  Profit made =  4474789\n",
      "YEAR  15  : Amount invested =  2448296   .  Total =  7684624   .  Profit made =  5236328\n",
      "YEAR  16  : Amount invested =  2568296   .  Total =  8663133   .  Profit made =  6094837\n",
      "YEAR  17  : Amount invested =  2688296   .  Total =  9749277   .  Profit made =  7060981\n",
      "YEAR  18  : Amount invested =  2808296   .  Total =  10954898   .  Profit made =  8146602\n",
      "YEAR  19  : Amount invested =  2928296   .  Total =  12293137   .  Profit made =  9364841\n",
      "YEAR  20  : Amount invested =  3048296   .  Total =  13778582   .  Profit made =  10730286\n"
     ]
    }
   ],
   "source": [
    "i = 648296\n",
    "d= 10000\n",
    "n= 0\n",
    "r=11\n",
    "M = i\n",
    "\n",
    "while n<20: \n",
    "    M += 12*d + (M+12*d)*(r/100)\n",
    "    p = M-(i+12*d*(n+1))\n",
    "    n +=1\n",
    "    print('YEAR ',n,' : Amount invested = ',i+12*d*n, '  .  Total = ',round(M), '  .  Profit made = ',round(p))"
   ]
  },
  {
   "cell_type": "code",
   "execution_count": 16,
   "id": "ffa53a4d",
   "metadata": {},
   "outputs": [
    {
     "name": "stdout",
     "output_type": "stream",
     "text": [
      "YEAR  1  : Amount invested =  12   .  Total =  13   .  Profit made =  1\n",
      "YEAR  2  : Amount invested =  24   .  Total =  28   .  Profit made =  4\n",
      "YEAR  3  : Amount invested =  36   .  Total =  45   .  Profit made =  9\n",
      "YEAR  4  : Amount invested =  48   .  Total =  64   .  Profit made =  16\n",
      "YEAR  5  : Amount invested =  60   .  Total =  85   .  Profit made =  25\n",
      "YEAR  6  : Amount invested =  72   .  Total =  109   .  Profit made =  37\n",
      "YEAR  7  : Amount invested =  84   .  Total =  136   .  Profit made =  52\n",
      "YEAR  8  : Amount invested =  96   .  Total =  165   .  Profit made =  69\n",
      "YEAR  9  : Amount invested =  108   .  Total =  199   .  Profit made =  91\n",
      "YEAR  10  : Amount invested =  120   .  Total =  236   .  Profit made =  116\n",
      "YEAR  11  : Amount invested =  132   .  Total =  278   .  Profit made =  146\n",
      "YEAR  12  : Amount invested =  144   .  Total =  324   .  Profit made =  180\n",
      "YEAR  13  : Amount invested =  156   .  Total =  377   .  Profit made =  221\n",
      "YEAR  14  : Amount invested =  168   .  Total =  435   .  Profit made =  267\n",
      "YEAR  15  : Amount invested =  180   .  Total =  501   .  Profit made =  321\n",
      "YEAR  16  : Amount invested =  192   .  Total =  575   .  Profit made =  383\n",
      "YEAR  17  : Amount invested =  204   .  Total =  657   .  Profit made =  453\n",
      "YEAR  18  : Amount invested =  216   .  Total =  749   .  Profit made =  533\n",
      "YEAR  19  : Amount invested =  228   .  Total =  853   .  Profit made =  625\n",
      "YEAR  20  : Amount invested =  240   .  Total =  968   .  Profit made =  728\n",
      "YEAR  21  : Amount invested =  252   .  Total =  1098   .  Profit made =  846\n",
      "YEAR  22  : Amount invested =  264   .  Total =  1243   .  Profit made =  979\n",
      "YEAR  23  : Amount invested =  276   .  Total =  1406   .  Profit made =  1130\n",
      "YEAR  24  : Amount invested =  288   .  Total =  1588   .  Profit made =  1300\n",
      "YEAR  25  : Amount invested =  300   .  Total =  1792   .  Profit made =  1492\n",
      "YEAR  26  : Amount invested =  312   .  Total =  2020   .  Profit made =  1708\n",
      "YEAR  27  : Amount invested =  324   .  Total =  2276   .  Profit made =  1952\n",
      "YEAR  28  : Amount invested =  336   .  Total =  2563   .  Profit made =  2227\n",
      "YEAR  29  : Amount invested =  348   .  Total =  2884   .  Profit made =  2536\n",
      "YEAR  30  : Amount invested =  360   .  Total =  3244   .  Profit made =  2884\n",
      "YEAR  31  : Amount invested =  372   .  Total =  3646   .  Profit made =  3274\n",
      "YEAR  32  : Amount invested =  384   .  Total =  4097   .  Profit made =  3713\n",
      "YEAR  33  : Amount invested =  396   .  Total =  4602   .  Profit made =  4206\n",
      "YEAR  34  : Amount invested =  408   .  Total =  5168   .  Profit made =  4760\n",
      "YEAR  35  : Amount invested =  420   .  Total =  5802   .  Profit made =  5382\n",
      "YEAR  36  : Amount invested =  432   .  Total =  6511   .  Profit made =  6079\n",
      "YEAR  37  : Amount invested =  444   .  Total =  7306   .  Profit made =  6862\n",
      "YEAR  38  : Amount invested =  456   .  Total =  8196   .  Profit made =  7740\n",
      "YEAR  39  : Amount invested =  468   .  Total =  9193   .  Profit made =  8725\n",
      "YEAR  40  : Amount invested =  480   .  Total =  10310   .  Profit made =  9830\n",
      "YEAR  41  : Amount invested =  492   .  Total =  11560   .  Profit made =  11068\n",
      "YEAR  42  : Amount invested =  504   .  Total =  12961   .  Profit made =  12457\n",
      "YEAR  43  : Amount invested =  516   .  Total =  14530   .  Profit made =  14014\n",
      "YEAR  44  : Amount invested =  528   .  Total =  16287   .  Profit made =  15759\n",
      "YEAR  45  : Amount invested =  540   .  Total =  18255   .  Profit made =  17715\n",
      "YEAR  46  : Amount invested =  552   .  Total =  20459   .  Profit made =  19907\n",
      "YEAR  47  : Amount invested =  564   .  Total =  22927   .  Profit made =  22363\n",
      "YEAR  48  : Amount invested =  576   .  Total =  25692   .  Profit made =  25116\n",
      "YEAR  49  : Amount invested =  588   .  Total =  28788   .  Profit made =  28200\n",
      "YEAR  50  : Amount invested =  600   .  Total =  32256   .  Profit made =  31656\n",
      "YEAR  51  : Amount invested =  612   .  Total =  36140   .  Profit made =  35528\n",
      "YEAR  52  : Amount invested =  624   .  Total =  40491   .  Profit made =  39867\n",
      "YEAR  53  : Amount invested =  636   .  Total =  45363   .  Profit made =  44727\n",
      "YEAR  54  : Amount invested =  648   .  Total =  50820   .  Profit made =  50172\n",
      "YEAR  55  : Amount invested =  660   .  Total =  56932   .  Profit made =  56272\n",
      "YEAR  56  : Amount invested =  672   .  Total =  63777   .  Profit made =  63105\n",
      "YEAR  57  : Amount invested =  684   .  Total =  71444   .  Profit made =  70760\n",
      "YEAR  58  : Amount invested =  696   .  Total =  80031   .  Profit made =  79335\n",
      "YEAR  59  : Amount invested =  708   .  Total =  89648   .  Profit made =  88940\n",
      "YEAR  60  : Amount invested =  720   .  Total =  100419   .  Profit made =  99699\n",
      "YEAR  61  : Amount invested =  732   .  Total =  112483   .  Profit made =  111751\n",
      "YEAR  62  : Amount invested =  744   .  Total =  125994   .  Profit made =  125250\n",
      "YEAR  63  : Amount invested =  756   .  Total =  141127   .  Profit made =  140371\n",
      "YEAR  64  : Amount invested =  768   .  Total =  158075   .  Profit made =  157307\n",
      "YEAR  65  : Amount invested =  780   .  Total =  177058   .  Profit made =  176278\n",
      "YEAR  66  : Amount invested =  792   .  Total =  198318   .  Profit made =  197526\n",
      "YEAR  67  : Amount invested =  804   .  Total =  222130   .  Profit made =  221326\n",
      "YEAR  68  : Amount invested =  816   .  Total =  248799   .  Profit made =  247983\n",
      "YEAR  69  : Amount invested =  828   .  Total =  278668   .  Profit made =  277840\n",
      "YEAR  70  : Amount invested =  840   .  Total =  312122   .  Profit made =  311282\n",
      "YEAR  71  : Amount invested =  852   .  Total =  349590   .  Profit made =  348738\n",
      "YEAR  72  : Amount invested =  864   .  Total =  391554   .  Profit made =  390690\n",
      "YEAR  73  : Amount invested =  876   .  Total =  438554   .  Profit made =  437678\n",
      "YEAR  74  : Amount invested =  888   .  Total =  491194   .  Profit made =  490306\n",
      "YEAR  75  : Amount invested =  900   .  Total =  550150   .  Profit made =  549250\n",
      "YEAR  76  : Amount invested =  912   .  Total =  616182   .  Profit made =  615270\n",
      "YEAR  77  : Amount invested =  924   .  Total =  690137   .  Profit made =  689213\n",
      "YEAR  78  : Amount invested =  936   .  Total =  772967   .  Profit made =  772031\n",
      "YEAR  79  : Amount invested =  948   .  Total =  865736   .  Profit made =  864788\n",
      "YEAR  80  : Amount invested =  960   .  Total =  969638   .  Profit made =  968678\n",
      "YEAR  81  : Amount invested =  972   .  Total =  1086008   .  Profit made =  1085036\n",
      "YEAR  82  : Amount invested =  984   .  Total =  1216343   .  Profit made =  1215359\n",
      "YEAR  83  : Amount invested =  996   .  Total =  1362317   .  Profit made =  1361321\n",
      "YEAR  84  : Amount invested =  1008   .  Total =  1525809   .  Profit made =  1524801\n",
      "YEAR  85  : Amount invested =  1020   .  Total =  1708919   .  Profit made =  1707899\n",
      "YEAR  86  : Amount invested =  1032   .  Total =  1914003   .  Profit made =  1912971\n",
      "YEAR  87  : Amount invested =  1044   .  Total =  2143697   .  Profit made =  2142653\n",
      "YEAR  88  : Amount invested =  1056   .  Total =  2400954   .  Profit made =  2399898\n",
      "YEAR  89  : Amount invested =  1068   .  Total =  2689081   .  Profit made =  2688013\n",
      "YEAR  90  : Amount invested =  1080   .  Total =  3011785   .  Profit made =  3010705\n"
     ]
    }
   ],
   "source": [
    "i = 0   \n",
    "d= 1\n",
    "n= 0\n",
    "r=12\n",
    "M = i\n",
    "\n",
    "while n<90: \n",
    "    M += 12*d + (M+12*d)*(r/100)\n",
    "    p = M-(i+12*d*(n+1))\n",
    "    n +=1\n",
    "    print('YEAR ',n,' : Amount invested = ',i+12*d*n, '  .  Total = ',round(M), '  .  Profit made = ',round(p))"
   ]
  },
  {
   "cell_type": "code",
   "execution_count": 23,
   "id": "95e0b0ed",
   "metadata": {},
   "outputs": [
    {
     "name": "stdout",
     "output_type": "stream",
     "text": [
      "YEAR  1  : Amount invested =  18634066   .  Total =  20870154   .  Profit made =  2236088\n",
      "YEAR  2  : Amount invested =  18634066   .  Total =  23374572   .  Profit made =  4740506\n",
      "YEAR  3  : Amount invested =  18634066   .  Total =  26179521   .  Profit made =  7545455\n",
      "YEAR  4  : Amount invested =  18634066   .  Total =  29321064   .  Profit made =  10686998\n",
      "YEAR  5  : Amount invested =  18634066   .  Total =  32839591   .  Profit made =  14205525\n"
     ]
    }
   ],
   "source": [
    "i = 18634066   \n",
    "d= 0\n",
    "n= 0\n",
    "r=12\n",
    "M = i\n",
    "\n",
    "while n<5: \n",
    "    M += 12*d + (M+12*d)*(r/100)\n",
    "    p = M-(i+12*d*(n+1))\n",
    "    n +=1\n",
    "    print('YEAR ',n,' : Amount invested = ',i+12*d*n, '  .  Total = ',round(M), '  .  Profit made = ',round(p))"
   ]
  },
  {
   "cell_type": "code",
   "execution_count": null,
   "id": "9eb54def",
   "metadata": {},
   "outputs": [],
   "source": []
  }
 ],
 "metadata": {
  "kernelspec": {
   "display_name": "Python 3 (ipykernel)",
   "language": "python",
   "name": "python3"
  },
  "language_info": {
   "codemirror_mode": {
    "name": "ipython",
    "version": 3
   },
   "file_extension": ".py",
   "mimetype": "text/x-python",
   "name": "python",
   "nbconvert_exporter": "python",
   "pygments_lexer": "ipython3",
   "version": "3.9.16"
  }
 },
 "nbformat": 4,
 "nbformat_minor": 5
}
