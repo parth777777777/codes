{
 "cells": [
  {
   "cell_type": "code",
   "execution_count": 1,
   "id": "28f66919",
   "metadata": {},
   "outputs": [],
   "source": [
    "import pandas as pd \n",
    "from matplotlib import pyplot as plt"
   ]
  },
  {
   "cell_type": "code",
   "execution_count": 32,
   "id": "001eb6c8",
   "metadata": {
    "scrolled": true
   },
   "outputs": [
    {
     "name": "stdout",
     "output_type": "stream",
     "text": [
      "Amount invested =  400000   .  Total =  440000   .  Profit made =  40000\n",
      "Amount invested =  700000   .  Total =  814000   .  Profit made =  114000\n",
      "Amount invested =  1000000   .  Total =  1225400   .  Profit made =  225400\n",
      "Amount invested =  1300000   .  Total =  1677940   .  Profit made =  377940\n",
      "Amount invested =  1600000   .  Total =  2175734   .  Profit made =  575734\n",
      "Amount invested =  1900000   .  Total =  2723307   .  Profit made =  823307\n",
      "Amount invested =  2200000   .  Total =  3325638   .  Profit made =  1125638\n",
      "Amount invested =  2500000   .  Total =  3988202   .  Profit made =  1488202\n",
      "Amount invested =  2800000   .  Total =  4717022   .  Profit made =  1917022\n",
      "Amount invested =  3100000   .  Total =  5518724   .  Profit made =  2418724\n",
      "Amount invested =  3400000   .  Total =  6400597   .  Profit made =  3000597\n",
      "Amount invested =  3700000   .  Total =  7370656   .  Profit made =  3670656\n",
      "Amount invested =  4000000   .  Total =  8437722   .  Profit made =  4437722\n",
      "Amount invested =  4300000   .  Total =  9611494   .  Profit made =  5311494\n",
      "Amount invested =  4600000   .  Total =  10902644   .  Profit made =  6302644\n"
     ]
    }
   ],
   "source": [
    "i = 100000\n",
    "d= 25000\n",
    "n= 0\n",
    "r=10\n",
    "M = i\n",
    "\n",
    "while n<15: \n",
    "    M += 12*d + (M+12*d)*(r/100)\n",
    "    p = M-(i+12*d*(n+1))\n",
    "    n +=1\n",
    "    print('Amount invested = ',i+12*d*n, '  .  Total = ',round(M), '  .  Profit made = ',round(p))"
   ]
  },
  {
   "cell_type": "code",
   "execution_count": null,
   "id": "ffa53a4d",
   "metadata": {},
   "outputs": [],
   "source": []
  }
 ],
 "metadata": {
  "kernelspec": {
   "display_name": "Python 3 (ipykernel)",
   "language": "python",
   "name": "python3"
  },
  "language_info": {
   "codemirror_mode": {
    "name": "ipython",
    "version": 3
   },
   "file_extension": ".py",
   "mimetype": "text/x-python",
   "name": "python",
   "nbconvert_exporter": "python",
   "pygments_lexer": "ipython3",
   "version": "3.9.16"
  }
 },
 "nbformat": 4,
 "nbformat_minor": 5
}
