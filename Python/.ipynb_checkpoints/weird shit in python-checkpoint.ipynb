{
 "cells": [
  {
   "cell_type": "markdown",
   "id": "1932aa69",
   "metadata": {},
   "source": [
    "# string splosion "
   ]
  },
  {
   "cell_type": "code",
   "execution_count": 6,
   "id": "60294db2",
   "metadata": {},
   "outputs": [],
   "source": [
    "def string_splosion(str):\n",
    "  list = ''\n",
    "  x = 0\n",
    "  for alphabet in str:\n",
    "    if str[x] == alphabet:\n",
    "      x += 1\n",
    "      list= list + (str[:x])\n",
    "  return list"
   ]
  },
  {
   "cell_type": "code",
   "execution_count": 7,
   "id": "fa8a2428",
   "metadata": {},
   "outputs": [
    {
     "data": {
      "text/plain": [
       "'wwoworworkworkeworkedworked!'"
      ]
     },
     "execution_count": 7,
     "metadata": {},
     "output_type": "execute_result"
    }
   ],
   "source": [
    "string_splosion('worked!')"
   ]
  },
  {
   "cell_type": "markdown",
   "id": "928aa022",
   "metadata": {},
   "source": [
    "# sums up 3 intergers except if one of them is 13 . when 13 , the number and the right side numbers dont get added"
   ]
  },
  {
   "cell_type": "code",
   "execution_count": 8,
   "id": "e3d69a27",
   "metadata": {},
   "outputs": [],
   "source": [
    "def lucky_sum(a, b, c):\n",
    "    \n",
    "    sums = 0\n",
    "    \n",
    "    if a != 13: \n",
    "        sums += a\n",
    "    else:\n",
    "        return sums\n",
    "    if b != 13:  \n",
    "        sums += b\n",
    "    else:\n",
    "        return sums\n",
    "    if c != 13:  \n",
    "        sums += c\n",
    "    else:\n",
    "        return sums\n",
    "  \n",
    "    return sums\n",
    "  "
   ]
  },
  {
   "cell_type": "code",
   "execution_count": 9,
   "id": "4c6d7ba5",
   "metadata": {},
   "outputs": [
    {
     "data": {
      "text/plain": [
       "6"
      ]
     },
     "execution_count": 9,
     "metadata": {},
     "output_type": "execute_result"
    }
   ],
   "source": [
    "lucky_sum(1, 5, 13)"
   ]
  },
  {
   "cell_type": "markdown",
   "id": "e6388d9c",
   "metadata": {},
   "source": [
    "# so basically dank converter (2018 version)"
   ]
  },
  {
   "cell_type": "code",
   "execution_count": 4,
   "id": "59a5e7f8",
   "metadata": {},
   "outputs": [],
   "source": [
    "def myfunc(a):\n",
    "    x = 0\n",
    "    main = ''\n",
    "    for letter in a:\n",
    "        if x %2==0:\n",
    "            main += a[x].upper()\n",
    "        else:\n",
    "            main += a[x].lower()\n",
    "        x += 1\n",
    "    return main\n",
    "        "
   ]
  },
  {
   "cell_type": "code",
   "execution_count": 5,
   "id": "4aa5abf1",
   "metadata": {},
   "outputs": [
    {
     "data": {
      "text/plain": [
       "'ThAtS So cRiNgE'"
      ]
     },
     "execution_count": 5,
     "metadata": {},
     "output_type": "execute_result"
    }
   ],
   "source": [
    "myfunc('thats so cringe')"
   ]
  },
  {
   "cell_type": "code",
   "execution_count": null,
   "id": "c18cf9a1",
   "metadata": {},
   "outputs": [],
   "source": []
  }
 ],
 "metadata": {
  "kernelspec": {
   "display_name": "Python 3",
   "language": "python",
   "name": "python3"
  },
  "language_info": {
   "codemirror_mode": {
    "name": "ipython",
    "version": 3
   },
   "file_extension": ".py",
   "mimetype": "text/x-python",
   "name": "python",
   "nbconvert_exporter": "python",
   "pygments_lexer": "ipython3",
   "version": "3.8.8"
  }
 },
 "nbformat": 4,
 "nbformat_minor": 5
}
