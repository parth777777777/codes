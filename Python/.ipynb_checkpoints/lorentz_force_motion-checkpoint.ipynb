{
 "cells": [
  {
   "cell_type": "code",
   "execution_count": 13,
   "id": "4852f65c",
   "metadata": {},
   "outputs": [],
   "source": [
    "import numpy as np \n",
    "import matplotlib.pyplot as plt\n",
    "from mpl_toolkits.mplot3d import Axes3D\n",
    "from matplotlib.animation import FuncAnimation"
   ]
  },
  {
   "cell_type": "code",
   "execution_count": 14,
   "id": "c87d139c",
   "metadata": {},
   "outputs": [],
   "source": [
    "##CONSTANTS##\n",
    "k1 = 9e9    #coulombs constant (1/e4pi)\n",
    "k2 = 1e-7   #magnetic constant (u/4pi)\n",
    "Qa = 1  #charge on A\n",
    "Qb = 1 # charge on B\n",
    "Ma = 1  #mass of a \n",
    "Mb = 1  #mass of b"
   ]
  },
  {
   "cell_type": "code",
   "execution_count": 15,
   "id": "04d1ae49",
   "metadata": {},
   "outputs": [],
   "source": [
    "ra = np.array([0,0,0])\n",
    "rb =  np.array([0,0.01,0])\n",
    "\n",
    "va =  np.array([0,0,0])\n",
    "vb=  np.array([0,0,0])\n",
    "\n",
    "pa = Ma*va\n",
    "pb= Mb*vb"
   ]
  },
  {
   "cell_type": "code",
   "execution_count": 16,
   "id": "31533dc1",
   "metadata": {},
   "outputs": [],
   "source": [
    "dt = 1e-12\n",
    "numsteps = 1000"
   ]
  },
  {
   "cell_type": "code",
   "execution_count": 17,
   "id": "3c865421",
   "metadata": {},
   "outputs": [],
   "source": [
    "positions_a = np.zeros((numsteps,3), dtype=float)\n",
    "positions_b = np.zeros((numsteps,3), dtype=float)\n",
    "times = np.zeros(numsteps, dtype=float)\n",
    "\n",
    "positions_a[0]= ra\n",
    "positions_b[0]= rb\n",
    "times[0]= 0"
   ]
  },
  {
   "cell_type": "code",
   "execution_count": 18,
   "id": "9801430c",
   "metadata": {},
   "outputs": [],
   "source": [
    "def force(ra,rb,va,vb,Qa,Qb):\n",
    "    x = rb-ra \n",
    "    fE = k1*Qa*Qb*x/np.linalg.norm(x)**3\n",
    "    fM = np.cross(va, (k2*Qb*(np.cross(vb,x)))/np.linalg.norm(x**3))\n",
    "    return fE + fM"
   ]
  },
  {
   "cell_type": "code",
   "execution_count": 19,
   "id": "61407100",
   "metadata": {},
   "outputs": [],
   "source": [
    "for i in range(1,numsteps):\n",
    "    fa = force(ra,rb,va,vb,Qa,Qb)\n",
    "    fb = -fa\n",
    "    \n",
    "    pa= pa+ fa*dt\n",
    "    pb = pb + fb*dt\n",
    "    \n",
    "    ra = ra + pa*dt/Ma\n",
    "    rb = rb + pb*dt/Mb\n",
    "    \n",
    "    positions_a[i] = ra.astype(float)\n",
    "    positions_b[i] = rb.astype(float)\n",
    "    times[i]= times[i-1]+ dt\n",
    "    \n",
    "    \n"
   ]
  },
  {
   "cell_type": "code",
   "execution_count": null,
   "id": "0507f2fc",
   "metadata": {},
   "outputs": [],
   "source": []
  }
 ],
 "metadata": {
  "kernelspec": {
   "display_name": "Python 3 (ipykernel)",
   "language": "python",
   "name": "python3"
  },
  "language_info": {
   "codemirror_mode": {
    "name": "ipython",
    "version": 3
   },
   "file_extension": ".py",
   "mimetype": "text/x-python",
   "name": "python",
   "nbconvert_exporter": "python",
   "pygments_lexer": "ipython3",
   "version": "3.9.13"
  }
 },
 "nbformat": 4,
 "nbformat_minor": 5
}
